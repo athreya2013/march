{
  "nbformat": 4,
  "nbformat_minor": 0,
  "metadata": {
    "colab": {
      "name": "data.ipynb",
      "provenance": [],
      "collapsed_sections": [],
      "authorship_tag": "ABX9TyN/V1EE9J6bMWr4w0GMC8XJ",
      "include_colab_link": true
    },
    "kernelspec": {
      "name": "python3",
      "display_name": "Python 3"
    }
  },
  "cells": [
    {
      "cell_type": "markdown",
      "metadata": {
        "id": "view-in-github",
        "colab_type": "text"
      },
      "source": [
        "<a href=\"https://colab.research.google.com/github/athreya2013/march/blob/main/data.ipynb\" target=\"_parent\"><img src=\"https://colab.research.google.com/assets/colab-badge.svg\" alt=\"Open In Colab\"/></a>"
      ]
    },
    {
      "cell_type": "code",
      "metadata": {
        "id": "pgKUgDKApsBR"
      },
      "source": [
        ""
      ],
      "execution_count": null,
      "outputs": []
    },
    {
      "cell_type": "code",
      "metadata": {
        "id": "vbPi4vYmptnk"
      },
      "source": [
        "import torch\r\n",
        "import torch.utils.data as data\r\n",
        "import random\r\n",
        "\r\n",
        "\r\n",
        "class ToyTask(data.Dataset):\r\n",
        "    \"\"\"\r\n",
        "    This toy task is intended to test the robustness of the approach, not so much to be \"fair\" to other baselines.\r\n",
        "    \"\"\"\r\n",
        "    def __init__(self, max_objects, coord, noise):\r\n",
        "        super().__init__()\r\n",
        "        self.max_objects = max_objects\r\n",
        "        self.max_proposals = self.max_objects\r\n",
        "        self.max_coord = max(coord, 1e-6)\r\n",
        "        self.weight_noise = noise\r\n",
        "\r\n",
        "    def __getitem__(self, item):\r\n",
        "        # generate random object positions\r\n",
        "        objects = torch.rand(self.max_proposals, 2) * (1 - self.max_coord)\r\n",
        "        # generate object boxes, to make sure that all objects are covered\r\n",
        "        boxes = torch.cat([objects, objects + self.max_coord], dim=1)\r\n",
        "        # determine selected objects\r\n",
        "        count = random.randint(0, self.max_objects)\r\n",
        "        if count > 0:\r\n",
        "            true_boxes = boxes[:count]\r\n",
        "            # find the iou distance to the true objects\r\n",
        "            iou = self.iou(boxes.t().contiguous(), true_boxes.t().contiguous())\r\n",
        "        else:\r\n",
        "            # no true objects, so no true overlaps to compute\r\n",
        "            iou = torch.zeros(self.max_proposals, 1)\r\n",
        "        # determine weighting by using each box' most overlapping true box\r\n",
        "        weights = self.weight(iou.max(dim=1)[0])\r\n",
        "        return weights, boxes, count\r\n",
        "\r\n",
        "    def weight(self, x):\r\n",
        "        noise = torch.rand(x.size())\r\n",
        "        # linear interpolation between signal and noise\r\n",
        "        x = (1 - self.weight_noise) * x + self.weight_noise * noise\r\n",
        "        return x\r\n",
        "\r\n",
        "    def iou(self, a, b):\r\n",
        "        inter = self.intersection(a, b)\r\n",
        "        area_a = self.area(a).unsqueeze(1).expand_as(inter)\r\n",
        "        area_b = self.area(b).unsqueeze(0).expand_as(inter)\r\n",
        "        return inter / (area_a + area_b - inter)\r\n",
        "\r\n",
        "    def area(self, box):\r\n",
        "        x = (box[2, :] - box[0, :]).clamp(min=0)\r\n",
        "        y = (box[3, :] - box[1, :]).clamp(min=0)\r\n",
        "        return x * y\r\n",
        "\r\n",
        "    def intersection(self, a, b):\r\n",
        "        size = (2, a.size(1), b.size(1))\r\n",
        "        min_point = torch.max(\r\n",
        "            a[:2, :].unsqueeze(dim=2).expand(*size),\r\n",
        "            b[:2, :].unsqueeze(dim=1).expand(*size),\r\n",
        "        )\r\n",
        "        max_point = torch.min(\r\n",
        "            a[2:, :].unsqueeze(dim=2).expand(*size),\r\n",
        "            b[2:, :].unsqueeze(dim=1).expand(*size),\r\n",
        "        )\r\n",
        "        inter = (max_point - min_point).clamp(min=0)\r\n",
        "        area = inter[0, :, :] * inter[1, :, :]\r\n",
        "        return area\r\n",
        "\r\n",
        "    def __len__(self):\r\n",
        "        # \"infinite\" size dataset, so just return a big number\r\n",
        "        return 2**32"
      ],
      "execution_count": null,
      "outputs": []
    }
  ]
}