{
  "nbformat": 4,
  "nbformat_minor": 0,
  "metadata": {
    "colab": {
      "name": "visualise-dataset.ipynb",
      "provenance": [],
      "collapsed_sections": [],
      "authorship_tag": "ABX9TyNkdzEgtH+OKuivWYZh4za6",
      "include_colab_link": true
    },
    "kernelspec": {
      "name": "python3",
      "display_name": "Python 3"
    }
  },
  "cells": [
    {
      "cell_type": "markdown",
      "metadata": {
        "id": "view-in-github",
        "colab_type": "text"
      },
      "source": [
        "<a href=\"https://colab.research.google.com/github/athreya2013/march/blob/main/visualise_dataset.ipynb\" target=\"_parent\"><img src=\"https://colab.research.google.com/assets/colab-badge.svg\" alt=\"Open In Colab\"/></a>"
      ]
    },
    {
      "cell_type": "code",
      "metadata": {
        "id": "4UuAZipYrhsC"
      },
      "source": [
        "import sys\r\n",
        "import random\r\n",
        "\r\n",
        "import data\r\n",
        "\r\n",
        "import torch\r\n",
        "import matplotlib.pyplot as plt\r\n",
        "import matplotlib.patches as patches\r\n",
        "plt.rc('text', usetex=True)\r\n",
        "plt.rc('font', family='serif', serif='Times')\r\n",
        "\r\n",
        "\r\n",
        "q = float(sys.argv[1])\r\n",
        "\r\n",
        "# guessing seeds for nice looking datasets\r\n",
        "torch.manual_seed(int(2 * q) + 10)\r\n",
        "random.seed(int(2 * q) + 16)\r\n",
        "\r\n",
        "cm = plt.cm.coolwarm\r\n",
        "params = [\r\n",
        "    (0.05, q),\r\n",
        "    (0.1, q),\r\n",
        "    (0.2, q),\r\n",
        "    (0.3, q),\r\n",
        "    (0.4, q),\r\n",
        "    (0.5, q),\r\n",
        "]\r\n",
        "\r\n",
        "n = 0\r\n",
        "plt.figure(figsize=(4, 11.5), dpi=200)\r\n",
        "for coord, noise in params:\r\n",
        "    dataset = data.ToyTask(10, coord, noise)\r\n",
        "\r\n",
        "    a, b, c = next(iter(dataset))\r\n",
        "\r\n",
        "    ax_true = plt.subplot(len(params), 2, n + 1, aspect='equal')\r\n",
        "    ax_data = plt.subplot(len(params), 2, n + 2, aspect='equal')\r\n",
        "    for i, (weight, box) in enumerate(zip(a, b)):\r\n",
        "        x = box[0]\r\n",
        "        y = box[1]\r\n",
        "        w = box[2] - box[0]\r\n",
        "        h = box[3] - box[1]\r\n",
        "        config = {\r\n",
        "            'alpha': 0.3,\r\n",
        "            'linewidth': 0,\r\n",
        "        }\r\n",
        "        ax_true.add_patch(patches.Rectangle(\r\n",
        "            (x, y), w, h,\r\n",
        "            **config,\r\n",
        "            color=cm(1 - float(i < c))\r\n",
        "        ))\r\n",
        "        ax_data.add_patch(patches.Rectangle(\r\n",
        "            (x, y), w, h,\r\n",
        "            **config,\r\n",
        "            color=cm(1 - weight)\r\n",
        "        ))\r\n",
        "        ax_true.axes.get_xaxis().set_visible(False)\r\n",
        "        ax_data.axes.get_xaxis().set_visible(False)\r\n",
        "        ax_true.axes.get_yaxis().set_major_locator(plt.NullLocator())\r\n",
        "        ax_data.axes.get_yaxis().set_visible(False)\r\n",
        "        ax_true.set_title('Ground truth: {}'.format(c))\r\n",
        "        ax_data.set_title('Data')\r\n",
        "        ax_true.set_ylabel('$l = {}$'.format(coord))\r\n",
        "    n += 2\r\n",
        "    plt.suptitle('\\Large$q = {}$'.format(noise))\r\n",
        "\r\n",
        "plt.subplots_adjust(left=0.1, right=0.9, top=0.96, bottom=0.0, hspace=0)\r\n",
        "plt.savefig('dataset-{}.pdf'.format(int(round(10 * q))))\r\n"
      ],
      "execution_count": null,
      "outputs": []
    }
  ]
}
