{
  "nbformat": 4,
  "nbformat_minor": 0,
  "metadata": {
    "colab": {
      "name": "model.ipynb",
      "provenance": [],
      "collapsed_sections": [],
      "authorship_tag": "ABX9TyMn1jeqXuYfCqLwtVvgBT5n",
      "include_colab_link": true
    },
    "kernelspec": {
      "name": "python3",
      "display_name": "Python 3"
    }
  },
  "cells": [
    {
      "cell_type": "markdown",
      "metadata": {
        "id": "view-in-github",
        "colab_type": "text"
      },
      "source": [
        "<a href=\"https://colab.research.google.com/github/athreya2013/march/blob/main/model.ipynb\" target=\"_parent\"><img src=\"https://colab.research.google.com/assets/colab-badge.svg\" alt=\"Open In Colab\"/></a>"
      ]
    },
    {
      "cell_type": "code",
      "metadata": {
        "id": "JyTZlOmnqQUt"
      },
      "source": [
        "import torch\r\n",
        "import torch.nn as nn\r\n",
        "import torch.nn.functional as F\r\n",
        "import torch.nn.init as init\r\n",
        "from torch.autograd import Variable\r\n",
        "\r\n",
        "import counting\r\n",
        "\r\n",
        "\r\n",
        "class Net(nn.Module):\r\n",
        "    def __init__(self, cf):\r\n",
        "        super(Net, self).__init__()\r\n",
        "        self.cf = cf\r\n",
        "        self.counter = counting.Counter(cf, already_sigmoided=True)\r\n",
        "        self.classifier = nn.Linear(cf + 1, cf + 1)\r\n",
        "        init.eye(self.classifier.weight)\r\n",
        "\r\n",
        "    def forward(self, a, b):\r\n",
        "        x = self.counter(b, a)\r\n",
        "        return self.classifier(x)\r\n",
        "\r\n",
        "\r\n",
        "class Baseline(nn.Module):\r\n",
        "    def __init__(self, cf):\r\n",
        "        super(Baseline, self).__init__()\r\n",
        "        self.cf = cf\r\n",
        "        self.classifier = nn.Linear(cf + 1, cf + 1)\r\n",
        "        self.dummy = counting.Counter(cf, already_sigmoided=True)\r\n",
        "        init.eye(self.classifier.weight)\r\n",
        "\r\n",
        "    def forward(self, a, b):\r\n",
        "        x = a.sum(dim=1, keepdim=True)\r\n",
        "        x = self.dummy.to_one_hot(x)\r\n",
        "        return self.classifier(x)\r\n"
      ],
      "execution_count": null,
      "outputs": []
    }
  ]
}