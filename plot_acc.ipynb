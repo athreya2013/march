{
  "nbformat": 4,
  "nbformat_minor": 0,
  "metadata": {
    "colab": {
      "name": "plot-acc.ipynb",
      "provenance": [],
      "collapsed_sections": [],
      "authorship_tag": "ABX9TyP5fE7of4CcYrP2aW2D/JKY",
      "include_colab_link": true
    },
    "kernelspec": {
      "name": "python3",
      "display_name": "Python 3"
    }
  },
  "cells": [
    {
      "cell_type": "markdown",
      "metadata": {
        "id": "view-in-github",
        "colab_type": "text"
      },
      "source": [
        "<a href=\"https://colab.research.google.com/github/athreya2013/march/blob/main/plot_acc.ipynb\" target=\"_parent\"><img src=\"https://colab.research.google.com/assets/colab-badge.svg\" alt=\"Open In Colab\"/></a>"
      ]
    },
    {
      "cell_type": "code",
      "metadata": {
        "id": "ZuwNngY6qgu2"
      },
      "source": [
        "import sys\r\n",
        "import os\r\n",
        "\r\n",
        "import torch\r\n",
        "import numpy as np\r\n",
        "import matplotlib.pyplot as plt\r\n",
        "from cycler import cycler\r\n",
        "\r\n",
        "\r\n",
        "plt.rc('text', usetex=True)\r\n",
        "plt.rc('font', family='serif', serif='Times')\r\n",
        "\r\n",
        "\r\n",
        "name_lookup = {\r\n",
        "    'coord': 'l',\r\n",
        "    'noise': 'q',\r\n",
        "}\r\n",
        "\r\n",
        "\r\n",
        "base = sys.argv[1]\r\n",
        "\r\n",
        "plt.figure(figsize=(8, 2.05), dpi=200)\r\n",
        "paths = list(os.listdir(base))\r\n",
        "i = 0\r\n",
        "lines = []\r\n",
        "for path in paths:\r\n",
        "    full_path = os.path.join(base, path)\r\n",
        "    if not (path.startswith('noise') or path.startswith('coord')):\r\n",
        "        continue\r\n",
        "    target_var = path.split('-')[0]\r\n",
        "    logs = torch.load(full_path)\r\n",
        "    accs = [x['accs'] for x in logs]\r\n",
        "    configs = [x['config'][target_var] for x in logs]\r\n",
        "    other_configs = [x['config']['noise' if target_var == 'coord' else 'coord'] for x in logs]\r\n",
        "\r\n",
        "    ax = plt.subplot(1, 4, i + 1)\r\n",
        "    plt.ylim(0, 1)\r\n",
        "    plt.xlim(min(configs), max(configs))\r\n",
        "    plt.xticks(np.linspace(min(configs), max(configs), 5, endpoint=True))\r\n",
        "    name = name_lookup[target_var]\r\n",
        "    plt.xlabel('${}$'.format(name))\r\n",
        "    val = str(other_configs[0]) if name == 'l' or other_configs[0] != 0.0 else '10^{-6}'\r\n",
        "    plt.title('${}={}$'.format('q' if name == 'l' else 'l', val))\r\n",
        "    plt.grid()\r\n",
        "    ax.set_prop_cycle(cycler('color', ['#004CDB', '#FF7800']))\r\n",
        "    l = plt.plot(configs, accs, '-')\r\n",
        "    lines.append(l)\r\n",
        "\r\n",
        "    i += 1\r\n",
        "\r\n",
        "plt.legend(\r\n",
        "    list(zip(*lines)),\r\n",
        "    ['Counting module', 'Baseline'],\r\n",
        "    ncol=2,\r\n",
        "    bbox_to_anchor=(-0.5, -0.6),\r\n",
        "    loc='lower right',\r\n",
        "    frameon=False,\r\n",
        ")\r\n",
        "plt.tight_layout()\r\n",
        "plt.subplots_adjust(bottom=0.30, top=0.89)\r\n",
        "plt.savefig('acc.pdf')\r\n"
      ],
      "execution_count": null,
      "outputs": []
    }
  ]
}